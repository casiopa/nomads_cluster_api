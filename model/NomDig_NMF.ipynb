{
 "cells": [
  {
   "cell_type": "markdown",
   "id": "8b2c15e5-8326-4849-9ffa-2e3ae04ad362",
   "metadata": {},
   "source": [
    "# NMF"
   ]
  },
  {
   "cell_type": "code",
   "execution_count": 8,
   "id": "6dda498f-8426-4559-9d82-25226225dc5d",
   "metadata": {},
   "outputs": [],
   "source": [
    "import numpy as np\n",
    "import pandas as pd\n",
    "import matplotlib.pyplot as plt\n",
    "import seaborn as sns\n",
    "\n",
    "import warnings\n",
    "warnings.filterwarnings(action=\"ignore\")"
   ]
  },
  {
   "cell_type": "markdown",
   "id": "1b9fb56d-c50d-41be-80ae-951071169906",
   "metadata": {},
   "source": [
    "### Data"
   ]
  },
  {
   "cell_type": "code",
   "execution_count": 9,
   "id": "6cf47115-36b6-449c-90c5-9d712ef9e722",
   "metadata": {},
   "outputs": [],
   "source": [
    "import pickle\n",
    "with open('data/df_inicial.pickle', 'rb') as f:\n",
    "    df = pickle.load(f)"
   ]
  },
  {
   "cell_type": "code",
   "execution_count": 3,
   "id": "3fd3b886-880d-42c3-902b-5adad4f47697",
   "metadata": {
    "collapsed": true,
    "jupyter": {
     "outputs_hidden": true
    },
    "tags": []
   },
   "outputs": [
    {
     "data": {
      "text/html": [
       "<div>\n",
       "<style scoped>\n",
       "    .dataframe tbody tr th:only-of-type {\n",
       "        vertical-align: middle;\n",
       "    }\n",
       "\n",
       "    .dataframe tbody tr th {\n",
       "        vertical-align: top;\n",
       "    }\n",
       "\n",
       "    .dataframe thead th {\n",
       "        text-align: right;\n",
       "    }\n",
       "</style>\n",
       "<table border=\"1\" class=\"dataframe\">\n",
       "  <thead>\n",
       "    <tr style=\"text-align: right;\">\n",
       "      <th></th>\n",
       "      <th>Climbing</th>\n",
       "      <th>Fitness</th>\n",
       "      <th>Football</th>\n",
       "      <th>Paddle</th>\n",
       "      <th>Running</th>\n",
       "      <th>Surf</th>\n",
       "      <th>Trecking</th>\n",
       "      <th>Voley</th>\n",
       "      <th>Bookstores</th>\n",
       "      <th>Concerts</th>\n",
       "      <th>...</th>\n",
       "      <th>Burgers</th>\n",
       "      <th>Chinese</th>\n",
       "      <th>Indian</th>\n",
       "      <th>Italian</th>\n",
       "      <th>Mediterranean</th>\n",
       "      <th>Sushi</th>\n",
       "      <th>Coffee</th>\n",
       "      <th>Drinks at night</th>\n",
       "      <th>Parties</th>\n",
       "      <th>Sunsets</th>\n",
       "    </tr>\n",
       "  </thead>\n",
       "  <tbody>\n",
       "    <tr>\n",
       "      <th>0</th>\n",
       "      <td>1</td>\n",
       "      <td>0</td>\n",
       "      <td>0</td>\n",
       "      <td>0</td>\n",
       "      <td>1</td>\n",
       "      <td>1</td>\n",
       "      <td>0</td>\n",
       "      <td>0</td>\n",
       "      <td>1</td>\n",
       "      <td>1</td>\n",
       "      <td>...</td>\n",
       "      <td>0</td>\n",
       "      <td>0</td>\n",
       "      <td>0</td>\n",
       "      <td>1</td>\n",
       "      <td>1</td>\n",
       "      <td>1</td>\n",
       "      <td>1</td>\n",
       "      <td>1</td>\n",
       "      <td>1</td>\n",
       "      <td>0</td>\n",
       "    </tr>\n",
       "    <tr>\n",
       "      <th>1</th>\n",
       "      <td>1</td>\n",
       "      <td>1</td>\n",
       "      <td>1</td>\n",
       "      <td>0</td>\n",
       "      <td>0</td>\n",
       "      <td>0</td>\n",
       "      <td>0</td>\n",
       "      <td>0</td>\n",
       "      <td>0</td>\n",
       "      <td>1</td>\n",
       "      <td>...</td>\n",
       "      <td>1</td>\n",
       "      <td>1</td>\n",
       "      <td>0</td>\n",
       "      <td>1</td>\n",
       "      <td>0</td>\n",
       "      <td>0</td>\n",
       "      <td>1</td>\n",
       "      <td>0</td>\n",
       "      <td>0</td>\n",
       "      <td>1</td>\n",
       "    </tr>\n",
       "    <tr>\n",
       "      <th>2</th>\n",
       "      <td>0</td>\n",
       "      <td>1</td>\n",
       "      <td>1</td>\n",
       "      <td>0</td>\n",
       "      <td>1</td>\n",
       "      <td>0</td>\n",
       "      <td>0</td>\n",
       "      <td>0</td>\n",
       "      <td>1</td>\n",
       "      <td>0</td>\n",
       "      <td>...</td>\n",
       "      <td>1</td>\n",
       "      <td>1</td>\n",
       "      <td>0</td>\n",
       "      <td>1</td>\n",
       "      <td>1</td>\n",
       "      <td>0</td>\n",
       "      <td>0</td>\n",
       "      <td>0</td>\n",
       "      <td>0</td>\n",
       "      <td>1</td>\n",
       "    </tr>\n",
       "    <tr>\n",
       "      <th>3</th>\n",
       "      <td>0</td>\n",
       "      <td>0</td>\n",
       "      <td>0</td>\n",
       "      <td>1</td>\n",
       "      <td>0</td>\n",
       "      <td>0</td>\n",
       "      <td>1</td>\n",
       "      <td>0</td>\n",
       "      <td>0</td>\n",
       "      <td>1</td>\n",
       "      <td>...</td>\n",
       "      <td>1</td>\n",
       "      <td>0</td>\n",
       "      <td>0</td>\n",
       "      <td>1</td>\n",
       "      <td>1</td>\n",
       "      <td>1</td>\n",
       "      <td>1</td>\n",
       "      <td>1</td>\n",
       "      <td>1</td>\n",
       "      <td>1</td>\n",
       "    </tr>\n",
       "    <tr>\n",
       "      <th>4</th>\n",
       "      <td>0</td>\n",
       "      <td>1</td>\n",
       "      <td>0</td>\n",
       "      <td>0</td>\n",
       "      <td>0</td>\n",
       "      <td>0</td>\n",
       "      <td>0</td>\n",
       "      <td>0</td>\n",
       "      <td>0</td>\n",
       "      <td>1</td>\n",
       "      <td>...</td>\n",
       "      <td>1</td>\n",
       "      <td>0</td>\n",
       "      <td>0</td>\n",
       "      <td>0</td>\n",
       "      <td>1</td>\n",
       "      <td>0</td>\n",
       "      <td>0</td>\n",
       "      <td>1</td>\n",
       "      <td>1</td>\n",
       "      <td>0</td>\n",
       "    </tr>\n",
       "    <tr>\n",
       "      <th>...</th>\n",
       "      <td>...</td>\n",
       "      <td>...</td>\n",
       "      <td>...</td>\n",
       "      <td>...</td>\n",
       "      <td>...</td>\n",
       "      <td>...</td>\n",
       "      <td>...</td>\n",
       "      <td>...</td>\n",
       "      <td>...</td>\n",
       "      <td>...</td>\n",
       "      <td>...</td>\n",
       "      <td>...</td>\n",
       "      <td>...</td>\n",
       "      <td>...</td>\n",
       "      <td>...</td>\n",
       "      <td>...</td>\n",
       "      <td>...</td>\n",
       "      <td>...</td>\n",
       "      <td>...</td>\n",
       "      <td>...</td>\n",
       "      <td>...</td>\n",
       "    </tr>\n",
       "    <tr>\n",
       "      <th>110</th>\n",
       "      <td>1</td>\n",
       "      <td>0</td>\n",
       "      <td>0</td>\n",
       "      <td>0</td>\n",
       "      <td>0</td>\n",
       "      <td>0</td>\n",
       "      <td>0</td>\n",
       "      <td>0</td>\n",
       "      <td>0</td>\n",
       "      <td>0</td>\n",
       "      <td>...</td>\n",
       "      <td>0</td>\n",
       "      <td>0</td>\n",
       "      <td>1</td>\n",
       "      <td>0</td>\n",
       "      <td>0</td>\n",
       "      <td>0</td>\n",
       "      <td>1</td>\n",
       "      <td>0</td>\n",
       "      <td>0</td>\n",
       "      <td>0</td>\n",
       "    </tr>\n",
       "    <tr>\n",
       "      <th>111</th>\n",
       "      <td>1</td>\n",
       "      <td>0</td>\n",
       "      <td>0</td>\n",
       "      <td>0</td>\n",
       "      <td>0</td>\n",
       "      <td>0</td>\n",
       "      <td>0</td>\n",
       "      <td>1</td>\n",
       "      <td>0</td>\n",
       "      <td>1</td>\n",
       "      <td>...</td>\n",
       "      <td>1</td>\n",
       "      <td>0</td>\n",
       "      <td>0</td>\n",
       "      <td>0</td>\n",
       "      <td>1</td>\n",
       "      <td>0</td>\n",
       "      <td>0</td>\n",
       "      <td>1</td>\n",
       "      <td>1</td>\n",
       "      <td>0</td>\n",
       "    </tr>\n",
       "    <tr>\n",
       "      <th>112</th>\n",
       "      <td>0</td>\n",
       "      <td>0</td>\n",
       "      <td>0</td>\n",
       "      <td>0</td>\n",
       "      <td>0</td>\n",
       "      <td>0</td>\n",
       "      <td>1</td>\n",
       "      <td>0</td>\n",
       "      <td>0</td>\n",
       "      <td>0</td>\n",
       "      <td>...</td>\n",
       "      <td>0</td>\n",
       "      <td>0</td>\n",
       "      <td>0</td>\n",
       "      <td>0</td>\n",
       "      <td>1</td>\n",
       "      <td>0</td>\n",
       "      <td>0</td>\n",
       "      <td>0</td>\n",
       "      <td>1</td>\n",
       "      <td>0</td>\n",
       "    </tr>\n",
       "    <tr>\n",
       "      <th>113</th>\n",
       "      <td>0</td>\n",
       "      <td>0</td>\n",
       "      <td>0</td>\n",
       "      <td>0</td>\n",
       "      <td>0</td>\n",
       "      <td>0</td>\n",
       "      <td>1</td>\n",
       "      <td>0</td>\n",
       "      <td>0</td>\n",
       "      <td>0</td>\n",
       "      <td>...</td>\n",
       "      <td>0</td>\n",
       "      <td>0</td>\n",
       "      <td>0</td>\n",
       "      <td>1</td>\n",
       "      <td>1</td>\n",
       "      <td>0</td>\n",
       "      <td>1</td>\n",
       "      <td>0</td>\n",
       "      <td>0</td>\n",
       "      <td>1</td>\n",
       "    </tr>\n",
       "    <tr>\n",
       "      <th>114</th>\n",
       "      <td>0</td>\n",
       "      <td>1</td>\n",
       "      <td>0</td>\n",
       "      <td>0</td>\n",
       "      <td>0</td>\n",
       "      <td>0</td>\n",
       "      <td>0</td>\n",
       "      <td>0</td>\n",
       "      <td>0</td>\n",
       "      <td>1</td>\n",
       "      <td>...</td>\n",
       "      <td>0</td>\n",
       "      <td>0</td>\n",
       "      <td>0</td>\n",
       "      <td>0</td>\n",
       "      <td>1</td>\n",
       "      <td>0</td>\n",
       "      <td>0</td>\n",
       "      <td>0</td>\n",
       "      <td>1</td>\n",
       "      <td>0</td>\n",
       "    </tr>\n",
       "  </tbody>\n",
       "</table>\n",
       "<p>115 rows × 26 columns</p>\n",
       "</div>"
      ],
      "text/plain": [
       "     Climbing  Fitness  Football  Paddle  Running  Surf  Trecking  Voley  \\\n",
       "0           1        0         0       0        1     1         0      0   \n",
       "1           1        1         1       0        0     0         0      0   \n",
       "2           0        1         1       0        1     0         0      0   \n",
       "3           0        0         0       1        0     0         1      0   \n",
       "4           0        1         0       0        0     0         0      0   \n",
       "..        ...      ...       ...     ...      ...   ...       ...    ...   \n",
       "110         1        0         0       0        0     0         0      0   \n",
       "111         1        0         0       0        0     0         0      1   \n",
       "112         0        0         0       0        0     0         1      0   \n",
       "113         0        0         0       0        0     0         1      0   \n",
       "114         0        1         0       0        0     0         0      0   \n",
       "\n",
       "     Bookstores  Concerts  ...  Burgers  Chinese  Indian  Italian  \\\n",
       "0             1         1  ...        0        0       0        1   \n",
       "1             0         1  ...        1        1       0        1   \n",
       "2             1         0  ...        1        1       0        1   \n",
       "3             0         1  ...        1        0       0        1   \n",
       "4             0         1  ...        1        0       0        0   \n",
       "..          ...       ...  ...      ...      ...     ...      ...   \n",
       "110           0         0  ...        0        0       1        0   \n",
       "111           0         1  ...        1        0       0        0   \n",
       "112           0         0  ...        0        0       0        0   \n",
       "113           0         0  ...        0        0       0        1   \n",
       "114           0         1  ...        0        0       0        0   \n",
       "\n",
       "     Mediterranean  Sushi  Coffee  Drinks at night  Parties  Sunsets  \n",
       "0                1      1       1                1        1        0  \n",
       "1                0      0       1                0        0        1  \n",
       "2                1      0       0                0        0        1  \n",
       "3                1      1       1                1        1        1  \n",
       "4                1      0       0                1        1        0  \n",
       "..             ...    ...     ...              ...      ...      ...  \n",
       "110              0      0       1                0        0        0  \n",
       "111              1      0       0                1        1        0  \n",
       "112              1      0       0                0        1        0  \n",
       "113              1      0       1                0        0        1  \n",
       "114              1      0       0                0        1        0  \n",
       "\n",
       "[115 rows x 26 columns]"
      ]
     },
     "execution_count": 3,
     "metadata": {},
     "output_type": "execute_result"
    }
   ],
   "source": [
    "df"
   ]
  },
  {
   "cell_type": "markdown",
   "id": "e67fb290-3b59-4458-afc8-b7bffd87e578",
   "metadata": {},
   "source": [
    "#### app json column names "
   ]
  },
  {
   "cell_type": "code",
   "execution_count": 30,
   "id": "46e75065-7a6e-4186-864d-6e3d1391b086",
   "metadata": {},
   "outputs": [],
   "source": [
    "col_names = {'Climbing': 'climbing', 'Fitness': 'fitness', 'Football': 'football', 'Paddle': 'paddle',\n",
    "             'Running': 'running', 'Surf': 'surf', 'Trecking': 'trecking', 'Voley': 'volley',\n",
    "             'Bookstores': 'bookstores', 'Concerts': 'concerts', 'Guided visits': 'guidedVisits',\n",
    "             'Movies': 'movies', 'Museums': 'museums', 'Parks': 'parks', 'Rural tourism': 'ruralTourism',\n",
    "             'Theaters': 'theaters', 'Burgers': 'burguers', 'Chinese': 'chinese', 'Indian': 'indian',\n",
    "             'Italian': 'italian', 'Mediterranean': 'mediterranean', 'Sushi': 'sushi', 'Coffee': 'coffee',\n",
    "             'Drinks at night': 'drinks', 'Parties': 'parties', 'Sunsets': 'sunsets'}"
   ]
  },
  {
   "cell_type": "code",
   "execution_count": 32,
   "id": "ec2d71e8-b05a-4758-b6e8-58a900871536",
   "metadata": {},
   "outputs": [],
   "source": [
    "df_ohe = df.rename(columns=col_names)"
   ]
  },
  {
   "cell_type": "markdown",
   "id": "95f223bb-d21d-4491-b87b-28fdaeda99c1",
   "metadata": {},
   "source": [
    "## NMF Model"
   ]
  },
  {
   "cell_type": "code",
   "execution_count": 10,
   "id": "9d8fd607-b0c0-49ee-9ed6-10e1ab5f20bb",
   "metadata": {},
   "outputs": [],
   "source": [
    "from sklearn.decomposition import NMF\n",
    "\n",
    "# Initializing NMF instance with 4 components\n",
    "nmf = NMF(n_components=4, random_state=42)\n",
    "\n",
    "# Fitting the model\n",
    "nmf.fit(df)\n",
    "\n",
    "# Extracting the components \n",
    "components = pd.DataFrame(data=nmf.components_, columns=df.columns)"
   ]
  },
  {
   "cell_type": "markdown",
   "id": "d592bb4c-ad91-45ed-a1a2-38bb3c80247c",
   "metadata": {},
   "source": [
    "### NMF components"
   ]
  },
  {
   "cell_type": "code",
   "execution_count": 7,
   "id": "b0439d9a-39d4-4ef2-b148-7f9292402f40",
   "metadata": {},
   "outputs": [
    {
     "data": {
      "text/html": [
       "<div>\n",
       "<style scoped>\n",
       "    .dataframe tbody tr th:only-of-type {\n",
       "        vertical-align: middle;\n",
       "    }\n",
       "\n",
       "    .dataframe tbody tr th {\n",
       "        vertical-align: top;\n",
       "    }\n",
       "\n",
       "    .dataframe thead th {\n",
       "        text-align: right;\n",
       "    }\n",
       "</style>\n",
       "<table border=\"1\" class=\"dataframe\">\n",
       "  <thead>\n",
       "    <tr style=\"text-align: right;\">\n",
       "      <th></th>\n",
       "      <th>Climbing</th>\n",
       "      <th>Fitness</th>\n",
       "      <th>Football</th>\n",
       "      <th>Paddle</th>\n",
       "      <th>Running</th>\n",
       "      <th>Surf</th>\n",
       "      <th>Trecking</th>\n",
       "      <th>Voley</th>\n",
       "      <th>Bookstores</th>\n",
       "      <th>Concerts</th>\n",
       "      <th>...</th>\n",
       "      <th>Burgers</th>\n",
       "      <th>Chinese</th>\n",
       "      <th>Indian</th>\n",
       "      <th>Italian</th>\n",
       "      <th>Mediterranean</th>\n",
       "      <th>Sushi</th>\n",
       "      <th>Coffee</th>\n",
       "      <th>Drinks at night</th>\n",
       "      <th>Parties</th>\n",
       "      <th>Sunsets</th>\n",
       "    </tr>\n",
       "  </thead>\n",
       "  <tbody>\n",
       "    <tr>\n",
       "      <th>0</th>\n",
       "      <td>0.234761</td>\n",
       "      <td>0.095495</td>\n",
       "      <td>0.509550</td>\n",
       "      <td>0.488297</td>\n",
       "      <td>0.142288</td>\n",
       "      <td>0.080588</td>\n",
       "      <td>0.006931</td>\n",
       "      <td>0.121179</td>\n",
       "      <td>0.109930</td>\n",
       "      <td>0.000000</td>\n",
       "      <td>...</td>\n",
       "      <td>1.506046</td>\n",
       "      <td>1.762445</td>\n",
       "      <td>1.170227</td>\n",
       "      <td>1.294078</td>\n",
       "      <td>0.843612</td>\n",
       "      <td>0.912283</td>\n",
       "      <td>1.267306</td>\n",
       "      <td>0.075429</td>\n",
       "      <td>0.000000</td>\n",
       "      <td>1.122106</td>\n",
       "    </tr>\n",
       "    <tr>\n",
       "      <th>1</th>\n",
       "      <td>0.001074</td>\n",
       "      <td>0.128763</td>\n",
       "      <td>0.000000</td>\n",
       "      <td>0.202024</td>\n",
       "      <td>0.319376</td>\n",
       "      <td>0.000000</td>\n",
       "      <td>1.263059</td>\n",
       "      <td>0.187341</td>\n",
       "      <td>0.000000</td>\n",
       "      <td>0.115816</td>\n",
       "      <td>...</td>\n",
       "      <td>0.000000</td>\n",
       "      <td>0.000000</td>\n",
       "      <td>0.000000</td>\n",
       "      <td>0.511590</td>\n",
       "      <td>1.297256</td>\n",
       "      <td>0.376943</td>\n",
       "      <td>0.638521</td>\n",
       "      <td>0.000000</td>\n",
       "      <td>0.000000</td>\n",
       "      <td>1.095664</td>\n",
       "    </tr>\n",
       "    <tr>\n",
       "      <th>2</th>\n",
       "      <td>0.000000</td>\n",
       "      <td>0.824639</td>\n",
       "      <td>0.242692</td>\n",
       "      <td>0.025125</td>\n",
       "      <td>0.401167</td>\n",
       "      <td>0.247103</td>\n",
       "      <td>0.018506</td>\n",
       "      <td>0.071540</td>\n",
       "      <td>0.000000</td>\n",
       "      <td>1.737057</td>\n",
       "      <td>...</td>\n",
       "      <td>0.719902</td>\n",
       "      <td>0.000000</td>\n",
       "      <td>0.000000</td>\n",
       "      <td>0.700190</td>\n",
       "      <td>0.352326</td>\n",
       "      <td>0.279851</td>\n",
       "      <td>0.000000</td>\n",
       "      <td>2.205004</td>\n",
       "      <td>1.996175</td>\n",
       "      <td>0.272826</td>\n",
       "    </tr>\n",
       "    <tr>\n",
       "      <th>3</th>\n",
       "      <td>0.073271</td>\n",
       "      <td>1.148440</td>\n",
       "      <td>0.000000</td>\n",
       "      <td>0.187705</td>\n",
       "      <td>0.278201</td>\n",
       "      <td>0.263753</td>\n",
       "      <td>0.000000</td>\n",
       "      <td>0.044559</td>\n",
       "      <td>0.807677</td>\n",
       "      <td>0.454684</td>\n",
       "      <td>...</td>\n",
       "      <td>0.000000</td>\n",
       "      <td>0.137457</td>\n",
       "      <td>0.710929</td>\n",
       "      <td>0.780230</td>\n",
       "      <td>0.939247</td>\n",
       "      <td>0.483877</td>\n",
       "      <td>0.747582</td>\n",
       "      <td>0.000000</td>\n",
       "      <td>0.282350</td>\n",
       "      <td>0.000000</td>\n",
       "    </tr>\n",
       "  </tbody>\n",
       "</table>\n",
       "<p>4 rows × 26 columns</p>\n",
       "</div>"
      ],
      "text/plain": [
       "   Climbing   Fitness  Football    Paddle   Running      Surf  Trecking  \\\n",
       "0  0.234761  0.095495  0.509550  0.488297  0.142288  0.080588  0.006931   \n",
       "1  0.001074  0.128763  0.000000  0.202024  0.319376  0.000000  1.263059   \n",
       "2  0.000000  0.824639  0.242692  0.025125  0.401167  0.247103  0.018506   \n",
       "3  0.073271  1.148440  0.000000  0.187705  0.278201  0.263753  0.000000   \n",
       "\n",
       "      Voley  Bookstores  Concerts  ...   Burgers   Chinese    Indian  \\\n",
       "0  0.121179    0.109930  0.000000  ...  1.506046  1.762445  1.170227   \n",
       "1  0.187341    0.000000  0.115816  ...  0.000000  0.000000  0.000000   \n",
       "2  0.071540    0.000000  1.737057  ...  0.719902  0.000000  0.000000   \n",
       "3  0.044559    0.807677  0.454684  ...  0.000000  0.137457  0.710929   \n",
       "\n",
       "    Italian  Mediterranean     Sushi    Coffee  Drinks at night   Parties  \\\n",
       "0  1.294078       0.843612  0.912283  1.267306         0.075429  0.000000   \n",
       "1  0.511590       1.297256  0.376943  0.638521         0.000000  0.000000   \n",
       "2  0.700190       0.352326  0.279851  0.000000         2.205004  1.996175   \n",
       "3  0.780230       0.939247  0.483877  0.747582         0.000000  0.282350   \n",
       "\n",
       "    Sunsets  \n",
       "0  1.122106  \n",
       "1  1.095664  \n",
       "2  0.272826  \n",
       "3  0.000000  \n",
       "\n",
       "[4 rows x 26 columns]"
      ]
     },
     "execution_count": 7,
     "metadata": {},
     "output_type": "execute_result"
    }
   ],
   "source": [
    "components"
   ]
  },
  {
   "cell_type": "markdown",
   "id": "ef45246d-21d4-466e-bc34-efcfa68815be",
   "metadata": {},
   "source": [
    "### NMF segmentation averages"
   ]
  },
  {
   "cell_type": "code",
   "execution_count": 11,
   "id": "da0a2277-4bd3-4c67-acb8-967f47454ddf",
   "metadata": {},
   "outputs": [],
   "source": [
    "# Let's extract the features matrix lat_feat (nmf_features) which we will use to extract the segment assignment\n",
    "\n",
    "lat_feat = pd.DataFrame(data=nmf.transform(df), columns=components.index)\n",
    "lat_feat.index = df.index"
   ]
  },
  {
   "cell_type": "code",
   "execution_count": 14,
   "id": "5dbaee04-92a4-48b8-85b5-baf43870cf3a",
   "metadata": {
    "tags": []
   },
   "outputs": [
    {
     "data": {
      "text/html": [
       "<div>\n",
       "<style scoped>\n",
       "    .dataframe tbody tr th:only-of-type {\n",
       "        vertical-align: middle;\n",
       "    }\n",
       "\n",
       "    .dataframe tbody tr th {\n",
       "        vertical-align: top;\n",
       "    }\n",
       "\n",
       "    .dataframe thead th {\n",
       "        text-align: right;\n",
       "    }\n",
       "</style>\n",
       "<table border=\"1\" class=\"dataframe\">\n",
       "  <thead>\n",
       "    <tr style=\"text-align: right;\">\n",
       "      <th></th>\n",
       "      <th>0</th>\n",
       "      <th>1</th>\n",
       "      <th>2</th>\n",
       "      <th>3</th>\n",
       "    </tr>\n",
       "  </thead>\n",
       "  <tbody>\n",
       "    <tr>\n",
       "      <th>0</th>\n",
       "      <td>0.119979</td>\n",
       "      <td>0.042840</td>\n",
       "      <td>0.406818</td>\n",
       "      <td>0.583776</td>\n",
       "    </tr>\n",
       "    <tr>\n",
       "      <th>1</th>\n",
       "      <td>0.555087</td>\n",
       "      <td>0.000000</td>\n",
       "      <td>0.202163</td>\n",
       "      <td>0.004736</td>\n",
       "    </tr>\n",
       "    <tr>\n",
       "      <th>2</th>\n",
       "      <td>0.263683</td>\n",
       "      <td>0.464831</td>\n",
       "      <td>0.088828</td>\n",
       "      <td>0.193185</td>\n",
       "    </tr>\n",
       "    <tr>\n",
       "      <th>3</th>\n",
       "      <td>0.165538</td>\n",
       "      <td>0.618708</td>\n",
       "      <td>0.443166</td>\n",
       "      <td>0.000000</td>\n",
       "    </tr>\n",
       "    <tr>\n",
       "      <th>4</th>\n",
       "      <td>0.049017</td>\n",
       "      <td>0.167889</td>\n",
       "      <td>0.515049</td>\n",
       "      <td>0.077794</td>\n",
       "    </tr>\n",
       "    <tr>\n",
       "      <th>...</th>\n",
       "      <td>...</td>\n",
       "      <td>...</td>\n",
       "      <td>...</td>\n",
       "      <td>...</td>\n",
       "    </tr>\n",
       "    <tr>\n",
       "      <th>110</th>\n",
       "      <td>0.093821</td>\n",
       "      <td>0.187337</td>\n",
       "      <td>0.000000</td>\n",
       "      <td>0.035971</td>\n",
       "    </tr>\n",
       "    <tr>\n",
       "      <th>111</th>\n",
       "      <td>0.010314</td>\n",
       "      <td>0.146043</td>\n",
       "      <td>0.464198</td>\n",
       "      <td>0.000000</td>\n",
       "    </tr>\n",
       "    <tr>\n",
       "      <th>112</th>\n",
       "      <td>0.000000</td>\n",
       "      <td>0.493293</td>\n",
       "      <td>0.099368</td>\n",
       "      <td>0.000000</td>\n",
       "    </tr>\n",
       "    <tr>\n",
       "      <th>113</th>\n",
       "      <td>0.072110</td>\n",
       "      <td>0.598765</td>\n",
       "      <td>0.000000</td>\n",
       "      <td>0.370800</td>\n",
       "    </tr>\n",
       "    <tr>\n",
       "      <th>114</th>\n",
       "      <td>0.000000</td>\n",
       "      <td>0.000000</td>\n",
       "      <td>0.221458</td>\n",
       "      <td>0.455860</td>\n",
       "    </tr>\n",
       "  </tbody>\n",
       "</table>\n",
       "<p>115 rows × 4 columns</p>\n",
       "</div>"
      ],
      "text/plain": [
       "            0         1         2         3\n",
       "0    0.119979  0.042840  0.406818  0.583776\n",
       "1    0.555087  0.000000  0.202163  0.004736\n",
       "2    0.263683  0.464831  0.088828  0.193185\n",
       "3    0.165538  0.618708  0.443166  0.000000\n",
       "4    0.049017  0.167889  0.515049  0.077794\n",
       "..        ...       ...       ...       ...\n",
       "110  0.093821  0.187337  0.000000  0.035971\n",
       "111  0.010314  0.146043  0.464198  0.000000\n",
       "112  0.000000  0.493293  0.099368  0.000000\n",
       "113  0.072110  0.598765  0.000000  0.370800\n",
       "114  0.000000  0.000000  0.221458  0.455860\n",
       "\n",
       "[115 rows x 4 columns]"
      ]
     },
     "execution_count": 14,
     "metadata": {},
     "output_type": "execute_result"
    }
   ],
   "source": [
    "lat_feat"
   ]
  },
  {
   "cell_type": "code",
   "execution_count": null,
   "id": "ac8624b6-cc79-47e8-a720-ec895606e82e",
   "metadata": {
    "tags": []
   },
   "outputs": [],
   "source": [
    "# Assigning the column name where the corresponding value is the largest\n",
    "df_nmf4 = df.assign(segment = lat_feat.idxmax(axis=1))"
   ]
  },
  {
   "cell_type": "code",
   "execution_count": null,
   "id": "ce8bc4e4-a734-46ae-ae07-1a17cfaf8d9b",
   "metadata": {},
   "outputs": [],
   "source": [
    "# Average column values per each segment\n",
    "nmf4_averages = df_nmf4.groupby('segment').mean().round(0)"
   ]
  },
  {
   "cell_type": "code",
   "execution_count": 18,
   "id": "e5f6c56a-d6c2-4e1a-ac2a-063fb80551ff",
   "metadata": {},
   "outputs": [
    {
     "data": {
      "image/png": "[encoded data removed]",
      "text/plain": [
       "<Figure size 720x432 with 2 Axes>"
      ]
     },
     "metadata": {
      "needs_background": "light"
     },
     "output_type": "display_data"
    }
   ],
   "source": [
    "# Plotting the average values as heatmap\n",
    "cmaps = sns.diverging_palette(220, 20, as_cmap=True)\n",
    "plt.figure(figsize=(10,6)) \n",
    "sns.heatmap(nmf4_averages.T, cmap=cmaps, linewidths=0.1)\n",
    "\n",
    "plt.show()"
   ]
  },
  {
   "cell_type": "code",
   "execution_count": 17,
   "id": "4b305100-7d6a-43a5-9253-4ffa2d85cd61",
   "metadata": {},
   "outputs": [
    {
     "data": {
      "image/png": "[encoded data removed]",
      "text/plain": [
       "<Figure size 720x432 with 2 Axes>"
      ]
     },
     "metadata": {
      "needs_background": "light"
     },
     "output_type": "display_data"
    }
   ],
   "source": [
    "# Plotting the components values as heatmap\n",
    "cmaps = sns.diverging_palette(220, 20, as_cmap=True)\n",
    "plt.figure(figsize=(10,6)) \n",
    "sns.heatmap((components/2.2).T, cmap=cmaps, linewidths=0.1, annot=True)\n",
    "\n",
    "plt.show()"
   ]
  },
  {
   "cell_type": "markdown",
   "id": "e3b44226-18de-4fad-9eee-3c5248d1c8ac",
   "metadata": {},
   "source": [
    "### Predictions"
   ]
  },
  {
   "cell_type": "code",
   "execution_count": 27,
   "id": "fedd0e5b-a207-4922-800c-86800538e68e",
   "metadata": {},
   "outputs": [
    {
     "data": {
      "text/plain": [
       "array([[0.26065091, 0.35089328, 0.19279057, 0.        ]])"
      ]
     },
     "execution_count": 27,
     "metadata": {},
     "output_type": "execute_result"
    }
   ],
   "source": [
    "nmf.transform([[0, 0, 1, 0, 1, 0, 1, 0, 1, 0, 1, 0, 0, 1, 0, 0, 1, 1, 0, 0, 1, 0, 0, 1, 0, 1]])"
   ]
  },
  {
   "cell_type": "code",
   "execution_count": 40,
   "id": "f6f3dedd-2732-45f3-b4df-534497ff8cba",
   "metadata": {},
   "outputs": [
    {
     "data": {
      "text/plain": [
       "1"
      ]
     },
     "execution_count": 40,
     "metadata": {},
     "output_type": "execute_result"
    }
   ],
   "source": [
    "nmf.transform([[0, 0, 1, 0, 1, 0, 1, 0, 1, 0, 1, 0, 0, 1, 0, 0, 1, 1, 0, 0, 1, 0, 0, 1, 0, 1]]).argmax()"
   ]
  },
  {
   "cell_type": "code",
   "execution_count": 29,
   "id": "d2a72384-5c63-48b1-ba01-51785cd157da",
   "metadata": {},
   "outputs": [
    {
     "data": {
      "text/plain": [
       "1"
      ]
     },
     "execution_count": 29,
     "metadata": {},
     "output_type": "execute_result"
    }
   ],
   "source": [
    "nmf.transform([[0, 0, 1, 0, 1, 0, 1, 0, 1, 0, 1, 0, 0, 1, 0, 0, 1, 1, 0, 0, 1, 0, 0, 1, 0, 1]]).argmax()"
   ]
  },
  {
   "cell_type": "code",
   "execution_count": 41,
   "id": "2d0081a4-11ed-4d25-a0f4-0dd189f29542",
   "metadata": {},
   "outputs": [
    {
     "data": {
      "text/plain": [
       "0"
      ]
     },
     "execution_count": 41,
     "metadata": {},
     "output_type": "execute_result"
    }
   ],
   "source": [
    "nmf.transform([[0, 0, 0, 0, 0, 0, 0, 0, 0, 0, 0, 0, 0, 0, 0, 0, 0, 0, 0, 0, 0, 0, 0, 0, 0, 0]]).argmax()"
   ]
  },
  {
   "cell_type": "code",
   "execution_count": 42,
   "id": "8f36a685-4ed8-438a-9900-8581b30f20d6",
   "metadata": {},
   "outputs": [
    {
     "data": {
      "text/plain": [
       "3"
      ]
     },
     "execution_count": 42,
     "metadata": {},
     "output_type": "execute_result"
    }
   ],
   "source": [
    "nmf.transform([[1, 1, 1, 1, 1, 1, 1, 1, 1, 1, 1, 1, 1, 1, 1, 1, 1, 1, 1, 1, 1, 1, 1, 1, 1, 1]]).argmax()"
   ]
  },
  {
   "cell_type": "code",
   "execution_count": 38,
   "id": "b93e6e15-ca54-4912-b095-8f2b6c059c74",
   "metadata": {},
   "outputs": [
    {
     "name": "stdout",
     "output_type": "stream",
     "text": [
      "[1, 0, 0, 0, 1, 1, 0, 0, 1, 1, 0, 1, 1, 1, 0, 1, 0, 0, 0, 1, 1, 1, 1, 1, 1, 0, 3]\n"
     ]
    }
   ],
   "source": [
    "print(df_nmf4.iloc[0,:].tolist())"
   ]
  },
  {
   "cell_type": "code",
   "execution_count": 39,
   "id": "74eb0e3d-d806-4a64-b6b6-dac907411197",
   "metadata": {},
   "outputs": [
    {
     "data": {
      "text/plain": [
       "3"
      ]
     },
     "execution_count": 39,
     "metadata": {},
     "output_type": "execute_result"
    }
   ],
   "source": [
    "nmf.transform([[1, 0, 0, 0, 1, 1, 0, 0, 1, 1, 0, 1, 1, 1, 0, 1, 0, 0, 0, 1, 1, 1, 1, 1, 1, 0]]).argmax()"
   ]
  },
  {
   "cell_type": "markdown",
   "id": "df4b918d-9cff-413e-bc5a-a48483e8d7a4",
   "metadata": {},
   "source": [
    "### Reconstruction error\n",
    "Frobenius norm of the matrix difference, or beta-divergence, between the training data X and the reconstructed data WH from the fitted model."
   ]
  },
  {
   "cell_type": "code",
   "execution_count": 21,
   "id": "749d71d4-124d-4b1c-b5d7-bc8070446b89",
   "metadata": {},
   "outputs": [
    {
     "data": {
      "text/plain": [
       "20.128308346947147"
      ]
     },
     "execution_count": 21,
     "metadata": {},
     "output_type": "execute_result"
    }
   ],
   "source": [
    "nmf.reconstruction_err_"
   ]
  },
  {
   "cell_type": "markdown",
   "id": "e14a4308-daea-42c3-9a6a-78c758990dc7",
   "metadata": {},
   "source": [
    "# Recommender"
   ]
  },
  {
   "cell_type": "code",
   "execution_count": 23,
   "id": "133ca584-8734-4ff5-b49a-c5133335a24d",
   "metadata": {},
   "outputs": [],
   "source": [
    "A = df.to_numpy()\n",
    "# Dense to sparse matrix\n",
    "from numpy import array\n",
    "from scipy.sparse import csr_matrix\n",
    "\n",
    "# Converting to sparse matrix \n",
    "spar_matrix = csr_matrix(A)\n",
    "#print(spar_matrix)"
   ]
  },
  {
   "cell_type": "code",
   "execution_count": 24,
   "id": "baeb23c7-39da-4022-a4de-72d060960073",
   "metadata": {},
   "outputs": [
    {
     "data": {
      "text/plain": [
       "<115x26 sparse matrix of type '<class 'numpy.int64'>'\n",
       "\twith 1216 stored elements in Compressed Sparse Row format>"
      ]
     },
     "execution_count": 24,
     "metadata": {},
     "output_type": "execute_result"
    }
   ],
   "source": [
    "spar_matrix"
   ]
  },
  {
   "cell_type": "code",
   "execution_count": 25,
   "id": "59933aea-2158-4479-8d1e-0cc6eb515564",
   "metadata": {},
   "outputs": [],
   "source": [
    "from sklearn.preprocessing import Normalizer, MaxAbsScaler\n",
    "from sklearn.pipeline import make_pipeline\n",
    "\n",
    "scaler = MaxAbsScaler()\n",
    "nmf = NMF(n_components=6, random_state=42)\n",
    "normalizer = Normalizer()\n",
    "\n",
    "pipeline = make_pipeline(scaler, nmf, normalizer)\n",
    "\n",
    "# let's compute the normalized NMF features, norm_features\n",
    "norm_features = pipeline.fit_transform(spar_matrix)"
   ]
  },
  {
   "cell_type": "code",
   "execution_count": 33,
   "id": "35a42c82-6f1b-49ce-8475-27957c134f2c",
   "metadata": {},
   "outputs": [],
   "source": [
    "df_normfeatures = pd.DataFrame(norm_features, index=df.index)"
   ]
  },
  {
   "cell_type": "code",
   "execution_count": 44,
   "id": "838185bc-511f-40c9-ad9f-735a786867b4",
   "metadata": {},
   "outputs": [
    {
     "name": "stdout",
     "output_type": "stream",
     "text": [
      "0      1.000000\n",
      "24     0.968385\n",
      "100    0.960281\n",
      "114    0.906479\n",
      "53     0.891691\n",
      "dtype: float64\n"
     ]
    }
   ],
   "source": [
    "# Selecting row of user 0\n",
    "activity = df_normfeatures.iloc[0, :]\n",
    "\n",
    "# Computing cosine similarities\n",
    "similarities = df_normfeatures.dot(activity)\n",
    "\n",
    "# Displaying those with highest cosine similarity\n",
    "print(similarities.nlargest())"
   ]
  },
  {
   "cell_type": "markdown",
   "id": "50b3ef53-400c-419c-bd82-a1ea05217b83",
   "metadata": {},
   "source": [
    "### Serialization"
   ]
  },
  {
   "cell_type": "code",
   "execution_count": 35,
   "id": "cec1a16b-cd48-4f7d-97c4-ecbcbe8e83c0",
   "metadata": {},
   "outputs": [
    {
     "data": {
      "text/plain": [
       "['model.pkl']"
      ]
     },
     "execution_count": 35,
     "metadata": {},
     "output_type": "execute_result"
    }
   ],
   "source": [
    "import joblib\n",
    "# Save model as pickle file\n",
    "joblib.dump(nmf, \"model.pkl\")"
   ]
  }
 ],
 "metadata": {
  "kernelspec": {
   "display_name": "Python 3",
   "language": "python",
   "name": "python3"
  },
  "language_info": {
   "codemirror_mode": {
    "name": "ipython",
    "version": 3
   },
   "file_extension": ".py",
   "mimetype": "text/x-python",
   "name": "python",
   "nbconvert_exporter": "python",
   "pygments_lexer": "ipython3",
   "version": "3.8.8"
  }
 },
 "nbformat": 4,
 "nbformat_minor": 5
}
