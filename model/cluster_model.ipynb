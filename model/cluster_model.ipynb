{
 "cells": [
  {
   "cell_type": "code",
   "execution_count": 4,
   "id": "18e10e00-5e4e-4f8b-a2f0-0e74872793ef",
   "metadata": {},
   "outputs": [],
   "source": [
    "import pandas as pd\n",
    "import numpy as np\n",
    "\n",
    "import matplotlib.pyplot as plt\n",
    "import seaborn as sns\n",
    "\n",
    "from sklearn.cluster import KMeans\n",
    "import joblib"
   ]
  },
  {
   "cell_type": "code",
   "execution_count": 5,
   "id": "e56980cb-2740-4e09-8bb4-5d26a87e25bc",
   "metadata": {},
   "outputs": [
    {
     "data": {
      "text/html": [
       "<div>\n",
       "<style scoped>\n",
       "    .dataframe tbody tr th:only-of-type {\n",
       "        vertical-align: middle;\n",
       "    }\n",
       "\n",
       "    .dataframe tbody tr th {\n",
       "        vertical-align: top;\n",
       "    }\n",
       "\n",
       "    .dataframe thead th {\n",
       "        text-align: right;\n",
       "    }\n",
       "</style>\n",
       "<table border=\"1\" class=\"dataframe\">\n",
       "  <thead>\n",
       "    <tr style=\"text-align: right;\">\n",
       "      <th></th>\n",
       "      <th>¿Qué actividades deportivas te gusta practicar?</th>\n",
       "      <th>¿Cuáles son tus actividades culturales favoritas?</th>\n",
       "      <th>¿Qué tipo de comida te gusta?</th>\n",
       "      <th>Además, en tu tiempo de ocio te gusta...</th>\n",
       "    </tr>\n",
       "  </thead>\n",
       "  <tbody>\n",
       "    <tr>\n",
       "      <th>0</th>\n",
       "      <td>Surf, Running, Climbing</td>\n",
       "      <td>Concerts, Theaters, Parks, Museums, Bookstores...</td>\n",
       "      <td>Sushi, Italian, Mediterranean</td>\n",
       "      <td>Coffee, Parties, Drinks at night</td>\n",
       "    </tr>\n",
       "    <tr>\n",
       "      <th>1</th>\n",
       "      <td>Fitness, Climbing, Football</td>\n",
       "      <td>Concerts, Parks, Movies</td>\n",
       "      <td>Burgers, Italian, Chinese</td>\n",
       "      <td>Coffee, Sunsets</td>\n",
       "    </tr>\n",
       "    <tr>\n",
       "      <th>2</th>\n",
       "      <td>Fitness, Football, Running</td>\n",
       "      <td>Bookstores, Museums, Rural tourism, Parks, Gui...</td>\n",
       "      <td>Mediterranean, Chinese, Italian, Burgers</td>\n",
       "      <td>Sunsets</td>\n",
       "    </tr>\n",
       "    <tr>\n",
       "      <th>3</th>\n",
       "      <td>Trecking, Paddle</td>\n",
       "      <td>Rural tourism, Guided visits, Concerts</td>\n",
       "      <td>Mediterranean, Sushi, Italian, Burgers</td>\n",
       "      <td>Sunsets, Parties, Drinks at night, Coffee</td>\n",
       "    </tr>\n",
       "    <tr>\n",
       "      <th>4</th>\n",
       "      <td>Fitness</td>\n",
       "      <td>Rural tourism, Movies, Concerts</td>\n",
       "      <td>Burgers, Mediterranean</td>\n",
       "      <td>Drinks at night, Parties</td>\n",
       "    </tr>\n",
       "    <tr>\n",
       "      <th>5</th>\n",
       "      <td>Paddle, Fitness</td>\n",
       "      <td>Movies, Parks, Concerts, Guided visits</td>\n",
       "      <td>Chinese, Mediterranean, Burgers, Italian</td>\n",
       "      <td>Drinks at night, Coffee, Parties, Sunsets</td>\n",
       "    </tr>\n",
       "    <tr>\n",
       "      <th>6</th>\n",
       "      <td>Trecking, Running</td>\n",
       "      <td>Rural tourism, Movies, Concerts</td>\n",
       "      <td>Italian, Mediterranean, Sushi</td>\n",
       "      <td>Coffee, Parties, Sunsets</td>\n",
       "    </tr>\n",
       "    <tr>\n",
       "      <th>7</th>\n",
       "      <td>Surf, Running</td>\n",
       "      <td>Concerts, Movies, Rural tourism, Bookstores</td>\n",
       "      <td>Italian, Sushi, Mediterranean, Burgers</td>\n",
       "      <td>Parties, Sunsets, Drinks at night, Coffee</td>\n",
       "    </tr>\n",
       "    <tr>\n",
       "      <th>8</th>\n",
       "      <td>Running, Paddle</td>\n",
       "      <td>Parks, Movies</td>\n",
       "      <td>Chinese, Sushi, Italian, Indian, Mediterranean...</td>\n",
       "      <td>Drinks at night, Parties, Sunsets</td>\n",
       "    </tr>\n",
       "    <tr>\n",
       "      <th>9</th>\n",
       "      <td>Trecking, Voley, Running</td>\n",
       "      <td>Rural tourism, Museums, Guided visits, Parks</td>\n",
       "      <td>Italian, Burgers, Mediterranean, Indian, Sushi</td>\n",
       "      <td>Coffee, Sunsets, Parties, Drinks at night</td>\n",
       "    </tr>\n",
       "  </tbody>\n",
       "</table>\n",
       "</div>"
      ],
      "text/plain": [
       "  ¿Qué actividades deportivas te gusta practicar?  \\\n",
       "0                         Surf, Running, Climbing   \n",
       "1                     Fitness, Climbing, Football   \n",
       "2                      Fitness, Football, Running   \n",
       "3                                Trecking, Paddle   \n",
       "4                                         Fitness   \n",
       "5                                 Paddle, Fitness   \n",
       "6                               Trecking, Running   \n",
       "7                                   Surf, Running   \n",
       "8                                 Running, Paddle   \n",
       "9                        Trecking, Voley, Running   \n",
       "\n",
       "   ¿Cuáles son tus actividades culturales favoritas?  \\\n",
       "0  Concerts, Theaters, Parks, Museums, Bookstores...   \n",
       "1                            Concerts, Parks, Movies   \n",
       "2  Bookstores, Museums, Rural tourism, Parks, Gui...   \n",
       "3             Rural tourism, Guided visits, Concerts   \n",
       "4                    Rural tourism, Movies, Concerts   \n",
       "5             Movies, Parks, Concerts, Guided visits   \n",
       "6                    Rural tourism, Movies, Concerts   \n",
       "7        Concerts, Movies, Rural tourism, Bookstores   \n",
       "8                                      Parks, Movies   \n",
       "9       Rural tourism, Museums, Guided visits, Parks   \n",
       "\n",
       "                       ¿Qué tipo de comida te gusta?  \\\n",
       "0                      Sushi, Italian, Mediterranean   \n",
       "1                          Burgers, Italian, Chinese   \n",
       "2           Mediterranean, Chinese, Italian, Burgers   \n",
       "3             Mediterranean, Sushi, Italian, Burgers   \n",
       "4                             Burgers, Mediterranean   \n",
       "5           Chinese, Mediterranean, Burgers, Italian   \n",
       "6                      Italian, Mediterranean, Sushi   \n",
       "7             Italian, Sushi, Mediterranean, Burgers   \n",
       "8  Chinese, Sushi, Italian, Indian, Mediterranean...   \n",
       "9     Italian, Burgers, Mediterranean, Indian, Sushi   \n",
       "\n",
       "    Además, en tu tiempo de ocio te gusta...  \n",
       "0           Coffee, Parties, Drinks at night  \n",
       "1                            Coffee, Sunsets  \n",
       "2                                    Sunsets  \n",
       "3  Sunsets, Parties, Drinks at night, Coffee  \n",
       "4                   Drinks at night, Parties  \n",
       "5  Drinks at night, Coffee, Parties, Sunsets  \n",
       "6                   Coffee, Parties, Sunsets  \n",
       "7  Parties, Sunsets, Drinks at night, Coffee  \n",
       "8          Drinks at night, Parties, Sunsets  \n",
       "9  Coffee, Sunsets, Parties, Drinks at night  "
      ]
     },
     "execution_count": 5,
     "metadata": {},
     "output_type": "execute_result"
    }
   ],
   "source": [
    "filename = 'Nómadas digitales y viajeros incondicionales (Responses) - Form Responses 2.csv'\n",
    "df_raw = pd.read_csv(filename, usecols=range(1,5))\n",
    "df_raw.head(10)"
   ]
  },
  {
   "cell_type": "markdown",
   "id": "a07fd79a-e0fa-4481-8280-7ef3c620c4d2",
   "metadata": {},
   "source": [
    "### One-hot-encoding categorical features"
   ]
  },
  {
   "cell_type": "code",
   "execution_count": 11,
   "id": "cedcc670-b36a-4122-80fa-554b2575d0c5",
   "metadata": {},
   "outputs": [
    {
     "data": {
      "text/html": [
       "<div>\n",
       "<style scoped>\n",
       "    .dataframe tbody tr th:only-of-type {\n",
       "        vertical-align: middle;\n",
       "    }\n",
       "\n",
       "    .dataframe tbody tr th {\n",
       "        vertical-align: top;\n",
       "    }\n",
       "\n",
       "    .dataframe thead th {\n",
       "        text-align: right;\n",
       "    }\n",
       "</style>\n",
       "<table border=\"1\" class=\"dataframe\">\n",
       "  <thead>\n",
       "    <tr style=\"text-align: right;\">\n",
       "      <th></th>\n",
       "      <th>Climbing</th>\n",
       "      <th>Fitness</th>\n",
       "      <th>Football</th>\n",
       "      <th>Paddle</th>\n",
       "      <th>Running</th>\n",
       "      <th>Surf</th>\n",
       "      <th>Trecking</th>\n",
       "      <th>Voley</th>\n",
       "      <th>Bookstores</th>\n",
       "      <th>Concerts</th>\n",
       "      <th>...</th>\n",
       "      <th>Burgers</th>\n",
       "      <th>Chinese</th>\n",
       "      <th>Indian</th>\n",
       "      <th>Italian</th>\n",
       "      <th>Mediterranean</th>\n",
       "      <th>Sushi</th>\n",
       "      <th>Coffee</th>\n",
       "      <th>Drinks at night</th>\n",
       "      <th>Parties</th>\n",
       "      <th>Sunsets</th>\n",
       "    </tr>\n",
       "  </thead>\n",
       "  <tbody>\n",
       "    <tr>\n",
       "      <th>0</th>\n",
       "      <td>1</td>\n",
       "      <td>0</td>\n",
       "      <td>0</td>\n",
       "      <td>0</td>\n",
       "      <td>1</td>\n",
       "      <td>1</td>\n",
       "      <td>0</td>\n",
       "      <td>0</td>\n",
       "      <td>1</td>\n",
       "      <td>1</td>\n",
       "      <td>...</td>\n",
       "      <td>0</td>\n",
       "      <td>0</td>\n",
       "      <td>0</td>\n",
       "      <td>1</td>\n",
       "      <td>1</td>\n",
       "      <td>1</td>\n",
       "      <td>1</td>\n",
       "      <td>1</td>\n",
       "      <td>1</td>\n",
       "      <td>0</td>\n",
       "    </tr>\n",
       "    <tr>\n",
       "      <th>1</th>\n",
       "      <td>1</td>\n",
       "      <td>1</td>\n",
       "      <td>1</td>\n",
       "      <td>0</td>\n",
       "      <td>0</td>\n",
       "      <td>0</td>\n",
       "      <td>0</td>\n",
       "      <td>0</td>\n",
       "      <td>0</td>\n",
       "      <td>1</td>\n",
       "      <td>...</td>\n",
       "      <td>1</td>\n",
       "      <td>1</td>\n",
       "      <td>0</td>\n",
       "      <td>1</td>\n",
       "      <td>0</td>\n",
       "      <td>0</td>\n",
       "      <td>1</td>\n",
       "      <td>0</td>\n",
       "      <td>0</td>\n",
       "      <td>1</td>\n",
       "    </tr>\n",
       "    <tr>\n",
       "      <th>2</th>\n",
       "      <td>0</td>\n",
       "      <td>1</td>\n",
       "      <td>1</td>\n",
       "      <td>0</td>\n",
       "      <td>1</td>\n",
       "      <td>0</td>\n",
       "      <td>0</td>\n",
       "      <td>0</td>\n",
       "      <td>1</td>\n",
       "      <td>0</td>\n",
       "      <td>...</td>\n",
       "      <td>1</td>\n",
       "      <td>1</td>\n",
       "      <td>0</td>\n",
       "      <td>1</td>\n",
       "      <td>1</td>\n",
       "      <td>0</td>\n",
       "      <td>0</td>\n",
       "      <td>0</td>\n",
       "      <td>0</td>\n",
       "      <td>1</td>\n",
       "    </tr>\n",
       "  </tbody>\n",
       "</table>\n",
       "<p>3 rows × 26 columns</p>\n",
       "</div>"
      ],
      "text/plain": [
       "   Climbing  Fitness  Football  Paddle  Running  Surf  Trecking  Voley  \\\n",
       "0         1        0         0       0        1     1         0      0   \n",
       "1         1        1         1       0        0     0         0      0   \n",
       "2         0        1         1       0        1     0         0      0   \n",
       "\n",
       "   Bookstores  Concerts  ...  Burgers  Chinese  Indian  Italian  \\\n",
       "0           1         1  ...        0        0       0        1   \n",
       "1           0         1  ...        1        1       0        1   \n",
       "2           1         0  ...        1        1       0        1   \n",
       "\n",
       "   Mediterranean  Sushi  Coffee  Drinks at night  Parties  Sunsets  \n",
       "0              1      1       1                1        1        0  \n",
       "1              0      0       1                0        0        1  \n",
       "2              1      0       0                0        0        1  \n",
       "\n",
       "[3 rows x 26 columns]"
      ]
     },
     "execution_count": 11,
     "metadata": {},
     "output_type": "execute_result"
    }
   ],
   "source": [
    "df_ohe = df_raw.copy()\n",
    "for col in df_raw.columns:\n",
    "    df_ohe = df_ohe.join(df_ohe.pop(col).str.get_dummies(', '))\n",
    "    \n",
    "df_ohe.head(3)"
   ]
  },
  {
   "cell_type": "markdown",
   "id": "d993fc4d-d47d-461f-8763-3afec7414bdf",
   "metadata": {},
   "source": [
    "### Rename columns (predict names)"
   ]
  },
  {
   "cell_type": "code",
   "execution_count": 9,
   "id": "6dff3649-4f69-4d0c-a43c-e10cd0c47eed",
   "metadata": {},
   "outputs": [],
   "source": [
    "col_names = {'Climbing': 'climbing', 'Fitness': 'fitness', 'Football': 'football', 'Paddle': 'paddle',\n",
    "             'Running': 'running', 'Surf': 'surf', 'Trecking': 'trecking', 'Voley': 'volley',\n",
    "             'Bookstores': 'bookstores', 'Concerts': 'concerts', 'Guided visits': 'guidedVisits',\n",
    "             'Movies': 'movies', 'Museums': 'museums', 'Parks': 'parks', 'Rural tourism': 'ruralTourism',\n",
    "             'Theaters': 'theaters', 'Burgers': 'burguers', 'Chinese': 'chinese', 'Indian': 'indian',\n",
    "             'Italian': 'italian', 'Mediterranean': 'mediterranean', 'Sushi': 'sushi', 'Coffee': 'coffee',\n",
    "             'Drinks at night': 'drinks', 'Parties': 'parties', 'Sunsets': 'sunsets'}"
   ]
  },
  {
   "cell_type": "code",
   "execution_count": 25,
   "id": "6e447691-9b3f-4b9a-8c5c-681a5696f872",
   "metadata": {},
   "outputs": [],
   "source": [
    "df_ohe = df_ohe.rename(columns=col_names)"
   ]
  },
  {
   "cell_type": "code",
   "execution_count": 26,
   "id": "cdd69bfb-064f-49fd-a577-8940a14ef56b",
   "metadata": {},
   "outputs": [
    {
     "name": "stdout",
     "output_type": "stream",
     "text": [
      "Número de columnas: 26\n"
     ]
    },
    {
     "data": {
      "text/plain": [
       "Index(['climbing', 'fitness', 'football', 'paddle', 'running', 'surf',\n",
       "       'trecking', 'volley', 'bookstores', 'concerts', 'guidedVisits',\n",
       "       'movies', 'museums', 'parks', 'ruralTourism', 'theaters', 'burguers',\n",
       "       'chinese', 'indian', 'italian', 'mediterranean', 'sushi', 'coffee',\n",
       "       'drinks', 'parties', 'sunsets'],\n",
       "      dtype='object')"
      ]
     },
     "execution_count": 26,
     "metadata": {},
     "output_type": "execute_result"
    }
   ],
   "source": [
    "print('Número de columnas:', len(df_ohe.columns))\n",
    "df_ohe.columns"
   ]
  },
  {
   "cell_type": "code",
   "execution_count": 14,
   "id": "8510ee07-1c81-496a-baf5-2a0f869784d0",
   "metadata": {
    "tags": []
   },
   "outputs": [
    {
     "data": {
      "image/png": "[encoded data removed]",
      "text/plain": [
       "<Figure size 1440x720 with 26 Axes>"
      ]
     },
     "metadata": {},
     "output_type": "display_data"
    }
   ],
   "source": [
    "from broomlib import visualization as vis\n",
    "vis.grid_displots(df_ohe, figsize=(20, 10), cols=8, bins=20, fontsize=15, y_space=0.5, style='ggplot')"
   ]
  },
  {
   "cell_type": "markdown",
   "id": "5999294b-d316-41bd-9ed4-141ba0ab6b86",
   "metadata": {},
   "source": [
    "## KMeans notebook de clase"
   ]
  },
  {
   "cell_type": "code",
   "execution_count": 15,
   "id": "afcb7d5f-323a-468a-8a40-7c13b3dd8747",
   "metadata": {},
   "outputs": [],
   "source": [
    "kmeans_k = [KMeans(n_clusters=k, random_state=42).fit(df_ohe) for k in range(1, 10)]\n",
    "inertias = [model.inertia_ for model in kmeans_k]"
   ]
  },
  {
   "cell_type": "code",
   "execution_count": 16,
   "id": "5270cb4d-d2d5-4bc6-87d3-d2082dcecab1",
   "metadata": {},
   "outputs": [
    {
     "data": {
      "text/plain": [
       "[610.7826086956519,\n",
       " 549.2333333333333,\n",
       " 520.1417748917747,\n",
       " 493.83726708074533,\n",
       " 475.64807302231236,\n",
       " 463.32296918767514,\n",
       " 448.39108476064996,\n",
       " 435.02228906714197,\n",
       " 422.16605937921713]"
      ]
     },
     "execution_count": 16,
     "metadata": {},
     "output_type": "execute_result"
    }
   ],
   "source": [
    "inertias"
   ]
  },
  {
   "cell_type": "code",
   "execution_count": 17,
   "id": "0aadf0be-d5af-48a2-a440-479e372bcc98",
   "metadata": {},
   "outputs": [
    {
     "data": {
      "image/png": "[encoded data removed]",
      "text/plain": [
       "<Figure size 576x432 with 1 Axes>"
      ]
     },
     "metadata": {
      "needs_background": "light"
     },
     "output_type": "display_data"
    }
   ],
   "source": [
    "plt.figure(figsize=(8, 6))\n",
    "plt.plot(range(1, 10), inertias, \"bo-\")\n",
    "plt.xlabel(\"$k$\", fontsize=14)\n",
    "plt.ylabel(\"Inertia\", fontsize=14)\n",
    "plt.axis([0.5, 9.5, 400, 650])\n",
    "plt.show()"
   ]
  },
  {
   "cell_type": "markdown",
   "id": "fb808301-82be-4252-bbaa-c8582e0f3ac2",
   "metadata": {},
   "source": [
    "### Determining the optimal number of clusters"
   ]
  },
  {
   "cell_type": "code",
   "execution_count": 18,
   "id": "6e0b6c32-d0e8-4849-8497-795541891d4d",
   "metadata": {},
   "outputs": [
    {
     "data": {
      "image/png": "[encoded data removed]",
      "text/plain": [
       "<Figure size 432x288 with 1 Axes>"
      ]
     },
     "metadata": {
      "needs_background": "light"
     },
     "output_type": "display_data"
    }
   ],
   "source": [
    "from sklearn.cluster import KMeans\n",
    "\n",
    "# Create empty sse dictionary\n",
    "sse = {}\n",
    "\n",
    "# Fit KMeans algorithm on k values between 1 and 11\n",
    "for k in range(1, 11):\n",
    "    kmeans = KMeans(n_clusters=k, random_state=42)\n",
    "    kmeans.fit(df_ohe)\n",
    "    sse[k] = kmeans.inertia_\n",
    "\n",
    "# Add the title to the plot\n",
    "plt.title('Elbow criterion method chart')\n",
    "\n",
    "# Create and display a scatter plot\n",
    "sns.pointplot(x=list(sse.keys()), y=list(sse.values()))\n",
    "plt.show()"
   ]
  },
  {
   "cell_type": "code",
   "execution_count": 19,
   "id": "ec6dad54-04cc-48b5-9cc8-089e95010025",
   "metadata": {},
   "outputs": [
    {
     "data": {
      "text/plain": [
       "{1: 610.7826086956519,\n",
       " 2: 549.2333333333333,\n",
       " 3: 520.1417748917747,\n",
       " 4: 493.83726708074533,\n",
       " 5: 475.64807302231236,\n",
       " 6: 463.32296918767514,\n",
       " 7: 448.39108476064996,\n",
       " 8: 435.02228906714197,\n",
       " 9: 422.16605937921713,\n",
       " 10: 411.60459540459533}"
      ]
     },
     "execution_count": 19,
     "metadata": {},
     "output_type": "execute_result"
    }
   ],
   "source": [
    "sse"
   ]
  },
  {
   "cell_type": "markdown",
   "id": "f3264c59-99ab-4fee-ae91-ed255b063b89",
   "metadata": {},
   "source": [
    "### Building segmentation with k-means clustering"
   ]
  },
  {
   "cell_type": "code",
   "execution_count": 20,
   "id": "e56563e8-9f0b-410d-83cc-f0c90262fc9d",
   "metadata": {},
   "outputs": [],
   "source": [
    "# Initializing `KMeans` with 4 clusters\n",
    "kmeans=KMeans(n_clusters=5, random_state=123)\n",
    "\n",
    "# Fitting the model on the pre-processed dataset\n",
    "kmeans.fit(df_ohe)\n",
    "\n",
    "# Assigning the generated labels to a new column\n",
    "df_kmeans5 = df_ohe.assign(segment = kmeans.labels_)"
   ]
  },
  {
   "cell_type": "markdown",
   "id": "4150e73d-d99e-4c6a-b184-41882b0552f1",
   "metadata": {},
   "source": [
    "### K-means segmentation averages"
   ]
  },
  {
   "cell_type": "code",
   "execution_count": 21,
   "id": "096af190-494a-4a24-8453-d8f9ddc3af68",
   "metadata": {},
   "outputs": [
    {
     "name": "stdout",
     "output_type": "stream",
     "text": [
      "segment          0  1  2  3  4\n",
      "Climbing         0  0  0  0  0\n",
      "Fitness          1  0  0  0  1\n",
      "Football         0  0  0  0  0\n",
      "Paddle           0  0  0  0  0\n",
      "Running          0  0  0  0  0\n",
      "Surf             0  0  0  0  0\n",
      "Trecking         0  0  0  0  1\n",
      "Voley            0  0  0  0  0\n",
      "Bookstores       0  0  0  0  0\n",
      "Concerts         1  0  1  0  0\n",
      "Guided visits    0  0  0  0  1\n",
      "Movies           0  0  1  1  1\n",
      "Museums          1  0  0  0  1\n",
      "Parks            0  0  0  0  1\n",
      "Rural tourism    0  1  1  0  1\n",
      "Theaters         1  0  0  0  1\n",
      "Burgers          0  0  1  0  1\n",
      "Chinese          0  0  1  0  1\n",
      "Indian           1  0  0  0  1\n",
      "Italian          1  0  1  1  1\n",
      "Mediterranean    1  1  1  1  1\n",
      "Sushi            0  0  1  0  1\n",
      "Coffee           1  0  1  1  1\n",
      "Drinks at night  0  0  1  0  0\n",
      "Parties          1  0  1  0  0\n",
      "Sunsets          0  0  1  1  1\n"
     ]
    }
   ],
   "source": [
    "kmeans5_averages = df_kmeans5.groupby(['segment']).mean().round().astype('int')\n",
    "print(kmeans5_averages.T)"
   ]
  },
  {
   "cell_type": "markdown",
   "id": "fb0d0b44-abd0-4dc8-98b8-ab7e62403cb3",
   "metadata": {},
   "source": [
    "#### Average K-means segmentation attributes"
   ]
  },
  {
   "cell_type": "code",
   "execution_count": 22,
   "id": "a64729d4-f0a2-45d3-ab45-76b3e6988ea8",
   "metadata": {},
   "outputs": [
    {
     "data": {
      "image/png": "[encoded data removed]",
      "text/plain": [
       "<Figure size 432x288 with 2 Axes>"
      ]
     },
     "metadata": {
      "needs_background": "light"
     },
     "output_type": "display_data"
    }
   ],
   "source": [
    "sns.heatmap(kmeans5_averages.T, cmap='YlGnBu')\n",
    "plt.show()"
   ]
  },
  {
   "cell_type": "markdown",
   "id": "efc1bc7d-4fa2-4e1f-8701-0225185bd326",
   "metadata": {},
   "source": [
    "## Save trained model"
   ]
  },
  {
   "cell_type": "code",
   "execution_count": 23,
   "id": "f9a5d44a-8557-4b27-8e3b-4c9322da763a",
   "metadata": {},
   "outputs": [
    {
     "data": {
      "text/plain": [
       "['model.pkl']"
      ]
     },
     "execution_count": 23,
     "metadata": {},
     "output_type": "execute_result"
    }
   ],
   "source": [
    "# Save model as pickle file\n",
    "joblib.dump(kmeans, \"model.pkl\")"
   ]
  },
  {
   "cell_type": "code",
   "execution_count": null,
   "id": "49bdb911-37b0-43b6-9a51-c5fc9d077e5c",
   "metadata": {},
   "outputs": [],
   "source": []
  },
  {
   "cell_type": "code",
   "execution_count": null,
   "id": "74011a22-8346-4c04-88d0-5c4bf2c5a1d0",
   "metadata": {},
   "outputs": [],
   "source": []
  },
  {
   "cell_type": "code",
   "execution_count": null,
   "id": "051b2d27-7c0a-480f-a9af-a72f47d24810",
   "metadata": {},
   "outputs": [],
   "source": []
  },
  {
   "cell_type": "markdown",
   "id": "c6874bf6-d779-4dde-b814-65e29c33c0b4",
   "metadata": {},
   "source": [
    "### Alternative segmentation with NMF\n",
    "\n",
    "Non-negative matrix factorization algorithm (NMF) works well with sparse customer by product matrices that are typical in the e-commerce or retail space. "
   ]
  },
  {
   "cell_type": "code",
   "execution_count": 138,
   "id": "85b46453-8406-4afa-b5b2-5f4c37b7566f",
   "metadata": {},
   "outputs": [],
   "source": [
    "from sklearn.decomposition import NMF\n",
    "\n",
    "# Initialize NMF instance with 4 components\n",
    "nmf = NMF(4)\n",
    "\n",
    "# Fit the model on the wholesale sales data\n",
    "nmf.fit(df_ohe)\n",
    "\n",
    "# Extract the components \n",
    "components = pd.DataFrame(data=nmf.components_, columns=df_ohe.columns)"
   ]
  },
  {
   "cell_type": "markdown",
   "id": "5ee40e35-6927-4321-abaf-79ddcf231d31",
   "metadata": {},
   "source": [
    "### NMF segmentation averages"
   ]
  },
  {
   "cell_type": "code",
   "execution_count": 140,
   "id": "b68ecbcc-e81d-4315-b48b-aeb2da93cc46",
   "metadata": {},
   "outputs": [
    {
     "data": {
      "image/png": "[encoded data removed]",
      "text/plain": [
       "<Figure size 432x288 with 2 Axes>"
      ]
     },
     "metadata": {
      "needs_background": "light"
     },
     "output_type": "display_data"
    }
   ],
   "source": [
    "# Extract the features matrix W which we will use to extract the hard segment assignment\n",
    "# Create the W matrix\n",
    "W = pd.DataFrame(data=nmf.transform(df_ohe), columns=components.index)\n",
    "W.index = df_ohe.index\n",
    "\n",
    "# Assign the column name where the corresponding value is the largest\n",
    "df_nmf4 = df_ohe.assign(segment = W.idxmax(axis=1))\n",
    "\n",
    "# Calculate the average column values per each segment\n",
    "nmf4_averages = df_nmf4.groupby('segment').mean().round(0)\n",
    "\n",
    "# Plot the average values as heatmap\n",
    "sns.heatmap(nmf4_averages.T, cmap='YlGnBu')\n",
    "\n",
    "# Display the chart\n",
    "plt.show()\n"
   ]
  },
  {
   "cell_type": "code",
   "execution_count": null,
   "id": "384b7068-829c-4ab5-827d-46271bb1053c",
   "metadata": {},
   "outputs": [],
   "source": []
  }
 ],
 "metadata": {
  "kernelspec": {
   "display_name": "Python 3",
   "language": "python",
   "name": "python3"
  },
  "language_info": {
   "codemirror_mode": {
    "name": "ipython",
    "version": 3
   },
   "file_extension": ".py",
   "mimetype": "text/x-python",
   "name": "python",
   "nbconvert_exporter": "python",
   "pygments_lexer": "ipython3",
   "version": "3.8.8"
  }
 },
 "nbformat": 4,
 "nbformat_minor": 5
}
