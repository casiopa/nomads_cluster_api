{
 "cells": [
  {
   "cell_type": "code",
   "execution_count": 122,
   "id": "6a190d2e-8965-4204-87bc-93462bb27116",
   "metadata": {},
   "outputs": [],
   "source": [
    "import requests\n",
    "import json"
   ]
  },
  {
   "cell_type": "code",
   "execution_count": 64,
   "id": "c8f71023-0823-436a-a554-3a8dfc536d0b",
   "metadata": {
    "jupyter": {
     "source_hidden": true
    },
    "tags": []
   },
   "outputs": [],
   "source": [
    "peticion = {'user_id': '004',\n",
    "            'Climbing': 'True',\n",
    "            'Fitness': 'True',\n",
    "            'Football': 'False',\n",
    "            'Paddle': 'False',\n",
    "            'Running': 'False',\n",
    "            'Surf': 'False',\n",
    "            'Trecking': 'True',\n",
    "            'Voley': 'False',\n",
    "            'Bookstores': 'False',\n",
    "            'Concerts': 'False',\n",
    "            'Guided visits': 'True',\n",
    "            'Movies': 'False',\n",
    "            'Museums': 'True',\n",
    "            'Parks': 'False',\n",
    "            'Rural tourism': 'True',\n",
    "            'Theaters': 'False',\n",
    "            'Burgers': 'True',\n",
    "            'Chinese': 'True',\n",
    "            'Indian': 'True',\n",
    "            'Italian': 'True',\n",
    "            'Mediterranean': 'True',\n",
    "            'Sushi': 'False',\n",
    "            'Coffee': 'False',\n",
    "            'Drinks at night': 'True',\n",
    "            'Parties': 'True',\n",
    "            'Sunsets': 'True'\n",
    "           }"
   ]
  },
  {
   "cell_type": "code",
   "execution_count": 98,
   "id": "620dc079-0014-4026-bf84-d7a489f51f6a",
   "metadata": {
    "tags": []
   },
   "outputs": [],
   "source": [
    "with open('Example_JSON.json') as f:\n",
    "  json_file = json.load(f)"
   ]
  },
  {
   "cell_type": "code",
   "execution_count": 133,
   "id": "9f128803-aea7-489c-be17-3a216932919e",
   "metadata": {},
   "outputs": [],
   "source": [
    "path = 'http://127.0.0.1:5000/cluster'\n",
    "#path = 'https://nomad-spain-api.herokuapp.com/cluster'"
   ]
  },
  {
   "cell_type": "code",
   "execution_count": 138,
   "id": "c2158e58-a9a6-4d07-bef7-b941e48ea92a",
   "metadata": {},
   "outputs": [
    {
     "name": "stdout",
     "output_type": "stream",
     "text": [
      "{'_id': '6172a562284bf0c3a4c8632a'}\n"
     ]
    }
   ],
   "source": [
    "res = requests.get(path, json=json_file)\n",
    "\n",
    "if res.ok:\n",
    "    print(res.json())\n",
    "else:\n",
    "    print(res.ok)"
   ]
  },
  {
   "cell_type": "code",
   "execution_count": 135,
   "id": "7eebc1d9-b1de-451e-b19b-b4bc6d027a75",
   "metadata": {},
   "outputs": [
    {
     "name": "stdout",
     "output_type": "stream",
     "text": [
      "<Response [200]>\n"
     ]
    }
   ],
   "source": [
    "print(res)"
   ]
  },
  {
   "cell_type": "code",
   "execution_count": 66,
   "id": "d6d157e9-c342-471c-8fd9-17d2727199df",
   "metadata": {},
   "outputs": [
    {
     "name": "stdout",
     "output_type": "stream",
     "text": [
      "False\n"
     ]
    }
   ],
   "source": [
    "res = requests.post(path, json=peticion)\n",
    "\n",
    "if res.ok:\n",
    "    print(res.json())\n",
    "else:\n",
    "    print(res.ok)"
   ]
  },
  {
   "cell_type": "code",
   "execution_count": 67,
   "id": "3a966527-71e3-45f6-9ad7-038c31c19035",
   "metadata": {},
   "outputs": [
    {
     "name": "stdout",
     "output_type": "stream",
     "text": [
      "<Response [405]>\n"
     ]
    }
   ],
   "source": [
    "print(res)"
   ]
  },
  {
   "cell_type": "code",
   "execution_count": 136,
   "id": "685d7bca-ca81-46e6-b776-9ffca098c938",
   "metadata": {},
   "outputs": [
    {
     "data": {
      "text/plain": [
       "{'_id': '6172a562284bf0c3a4c8632a',\n",
       " 'interests': {'burguers': False,\n",
       "  'mediterranean': True,\n",
       "  'indian': False,\n",
       "  'sushi': False,\n",
       "  'italian': False,\n",
       "  'chinese': False,\n",
       "  'drinks': False,\n",
       "  'coffee': True,\n",
       "  'sunsets': False,\n",
       "  'parties': False,\n",
       "  'surf': True,\n",
       "  'fitness': False,\n",
       "  'volley': False,\n",
       "  'paddle': True,\n",
       "  'climbing': False,\n",
       "  'running': False,\n",
       "  'football': False,\n",
       "  'trecking': False,\n",
       "  'museums': False,\n",
       "  'bookstores': True,\n",
       "  'theaters': False,\n",
       "  'movies': False,\n",
       "  'guidedVisits': False,\n",
       "  'concerts': False,\n",
       "  'parks': False,\n",
       "  'ruralTourism': False}}"
      ]
     },
     "execution_count": 136,
     "metadata": {},
     "output_type": "execute_result"
    }
   ],
   "source": [
    "json_file"
   ]
  },
  {
   "cell_type": "code",
   "execution_count": null,
   "id": "f120d5e9-b131-499d-bc35-38edff54c5ae",
   "metadata": {},
   "outputs": [],
   "source": []
  },
  {
   "cell_type": "markdown",
   "id": "467e6a6a-9a1a-4807-9c43-35d377cbb1d6",
   "metadata": {},
   "source": [
    "## Pruebas app.py"
   ]
  },
  {
   "cell_type": "code",
   "execution_count": 99,
   "id": "8536c14c-19e6-45f2-91bf-64671da1f3ef",
   "metadata": {},
   "outputs": [],
   "source": [
    "import pandas as pd\n",
    "from distutils.util import strtobool\n",
    "from joblib import load"
   ]
  },
  {
   "cell_type": "markdown",
   "id": "f53c838d-876c-468c-85c1-7f569b1777d0",
   "metadata": {},
   "source": [
    "### json tipo petición"
   ]
  },
  {
   "cell_type": "code",
   "execution_count": 100,
   "id": "47e20e32-0bca-4ae7-a332-f57c0bf06248",
   "metadata": {},
   "outputs": [
    {
     "name": "stdout",
     "output_type": "stream",
     "text": [
      "004\n"
     ]
    },
    {
     "data": {
      "text/html": [
       "<div>\n",
       "<style scoped>\n",
       "    .dataframe tbody tr th:only-of-type {\n",
       "        vertical-align: middle;\n",
       "    }\n",
       "\n",
       "    .dataframe tbody tr th {\n",
       "        vertical-align: top;\n",
       "    }\n",
       "\n",
       "    .dataframe thead th {\n",
       "        text-align: right;\n",
       "    }\n",
       "</style>\n",
       "<table border=\"1\" class=\"dataframe\">\n",
       "  <thead>\n",
       "    <tr style=\"text-align: right;\">\n",
       "      <th></th>\n",
       "      <th>Climbing</th>\n",
       "      <th>Fitness</th>\n",
       "      <th>Football</th>\n",
       "      <th>Paddle</th>\n",
       "      <th>Running</th>\n",
       "      <th>Surf</th>\n",
       "      <th>Trecking</th>\n",
       "      <th>Voley</th>\n",
       "      <th>Bookstores</th>\n",
       "      <th>Concerts</th>\n",
       "      <th>...</th>\n",
       "      <th>Burgers</th>\n",
       "      <th>Chinese</th>\n",
       "      <th>Indian</th>\n",
       "      <th>Italian</th>\n",
       "      <th>Mediterranean</th>\n",
       "      <th>Sushi</th>\n",
       "      <th>Coffee</th>\n",
       "      <th>Drinks at night</th>\n",
       "      <th>Parties</th>\n",
       "      <th>Sunsets</th>\n",
       "    </tr>\n",
       "  </thead>\n",
       "  <tbody>\n",
       "    <tr>\n",
       "      <th>0</th>\n",
       "      <td>1</td>\n",
       "      <td>1</td>\n",
       "      <td>0</td>\n",
       "      <td>0</td>\n",
       "      <td>0</td>\n",
       "      <td>0</td>\n",
       "      <td>1</td>\n",
       "      <td>0</td>\n",
       "      <td>0</td>\n",
       "      <td>0</td>\n",
       "      <td>...</td>\n",
       "      <td>1</td>\n",
       "      <td>1</td>\n",
       "      <td>1</td>\n",
       "      <td>1</td>\n",
       "      <td>1</td>\n",
       "      <td>0</td>\n",
       "      <td>0</td>\n",
       "      <td>1</td>\n",
       "      <td>1</td>\n",
       "      <td>1</td>\n",
       "    </tr>\n",
       "  </tbody>\n",
       "</table>\n",
       "<p>1 rows × 26 columns</p>\n",
       "</div>"
      ],
      "text/plain": [
       "   Climbing  Fitness  Football  Paddle  Running  Surf  Trecking  Voley  \\\n",
       "0         1        1         0       0        0     0         1      0   \n",
       "\n",
       "   Bookstores  Concerts  ...  Burgers  Chinese  Indian  Italian  \\\n",
       "0           0         0  ...        1        1       1        1   \n",
       "\n",
       "   Mediterranean  Sushi  Coffee  Drinks at night  Parties  Sunsets  \n",
       "0              1      0       0                1        1        1  \n",
       "\n",
       "[1 rows x 26 columns]"
      ]
     },
     "execution_count": 100,
     "metadata": {},
     "output_type": "execute_result"
    }
   ],
   "source": [
    "new_user = pd.DataFrame.from_dict(peticion, orient='index').T\n",
    "user_id = new_user['user_id'].values[0]\n",
    "new_user.drop('user_id', axis='columns', inplace=True)\n",
    "new_user = new_user.applymap(strtobool)\n",
    "\n",
    "print(user_id)\n",
    "new_user"
   ]
  },
  {
   "cell_type": "markdown",
   "id": "01655261-21e6-4fdd-8efa-f60c89c13b48",
   "metadata": {},
   "source": [
    "### json tipo Ichi"
   ]
  },
  {
   "cell_type": "code",
   "execution_count": 109,
   "id": "dc943809-0beb-4fc8-bf40-43354caa86a3",
   "metadata": {},
   "outputs": [],
   "source": [
    "new_user = pd.DataFrame.from_dict(json_file['interests'], orient='index').T\n",
    "new_user = new_user.reindex(columns = ['climbing', 'fitness', 'football', 'paddle', 'running', 'surf',\n",
    "                                       'trecking', 'volley', 'bookstores', 'concerts', 'guidedVisits',\n",
    "                                       'movies', 'museums', 'parks', 'ruralTourism', 'theaters', 'burguers',\n",
    "                                       'chinese', 'indian', 'italian', 'mediterranean', 'sushi', 'coffee',\n",
    "                                       'drinks', 'parties', 'sunsets'])\n",
    "new_user = new_user.astype('int')\n",
    "_id = json_file['_id']"
   ]
  },
  {
   "cell_type": "code",
   "execution_count": 110,
   "id": "1834bccc-fd2b-4085-a4bd-82ec3111d961",
   "metadata": {},
   "outputs": [
    {
     "data": {
      "text/plain": [
       "1"
      ]
     },
     "execution_count": 110,
     "metadata": {},
     "output_type": "execute_result"
    }
   ],
   "source": [
    "model = load('model/model.pkl')\n",
    "\n",
    "cluster = model.predict(new_user)\n",
    "cluster[0]"
   ]
  },
  {
   "cell_type": "code",
   "execution_count": null,
   "id": "89c21831-ff8b-46c9-a8d7-0e545fa43020",
   "metadata": {},
   "outputs": [],
   "source": []
  }
 ],
 "metadata": {
  "kernelspec": {
   "display_name": "Python 3",
   "language": "python",
   "name": "python3"
  },
  "language_info": {
   "codemirror_mode": {
    "name": "ipython",
    "version": 3
   },
   "file_extension": ".py",
   "mimetype": "text/x-python",
   "name": "python",
   "nbconvert_exporter": "python",
   "pygments_lexer": "ipython3",
   "version": "3.8.8"
  }
 },
 "nbformat": 4,
 "nbformat_minor": 5
}
