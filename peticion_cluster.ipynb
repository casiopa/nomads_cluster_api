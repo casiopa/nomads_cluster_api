{
 "cells": [
  {
   "cell_type": "code",
   "execution_count": 3,
   "id": "6a190d2e-8965-4204-87bc-93462bb27116",
   "metadata": {},
   "outputs": [],
   "source": [
    "import requests"
   ]
  },
  {
   "cell_type": "code",
   "execution_count": 9,
   "id": "c8f71023-0823-436a-a554-3a8dfc536d0b",
   "metadata": {},
   "outputs": [],
   "source": [
    "peticion = {'user_id': '004',\n",
    "            'Climbing': 'True',\n",
    "            'Fitness': 'True',\n",
    "            'Football': 'False',\n",
    "            'Paddle': 'False',\n",
    "            'Running': 'False',\n",
    "            'Surf': 'False',\n",
    "            'Trecking': 'True',\n",
    "            'Voley': 'False',\n",
    "            'Bookstores': 'False',\n",
    "            'Concerts': 'False',\n",
    "            'Guided visits': 'True',\n",
    "            'Movies': 'False',\n",
    "            'Museums': 'True',\n",
    "            'Parks': 'False',\n",
    "            'Rural tourism': 'True',\n",
    "            'Theaters': 'False',\n",
    "            'Burgers': 'True',\n",
    "            'Chinese': 'True',\n",
    "            'Indian': 'True',\n",
    "            'Italian': 'True',\n",
    "            'Mediterranean': 'True',\n",
    "            'Sushi': 'False',\n",
    "            'Coffee': 'False',\n",
    "            'Drinks at night': 'True',\n",
    "            'Parties': 'True',\n",
    "            'Sunsets': 'True'\n",
    "           }\n",
    "path = 'http://127.0.0.1:5000/cluster'\n",
    "# path = 'https://nomad-spain-api.herokuapp.com/cluster'"
   ]
  },
  {
   "cell_type": "code",
   "execution_count": null,
   "id": "620dc079-0014-4026-bf84-d7a489f51f6a",
   "metadata": {},
   "outputs": [],
   "source": [
    "user_id: blablablabla,\n",
    "    interests: {\n",
    "          burguers: false,\n",
    "          mediterranean: false,\n",
    "          indian: false,\n",
    "          sushi: false,\n",
    "          italian: false,\n",
    "          chinese: false,\n",
    "          drinks: false,\n",
    "          coffee: false,\n",
    "          sunsets: false,\n",
    "          parties: false,\n",
    "          surf: false,\n",
    "          fitness: false,\n",
    "          volley: false,\n",
    "          paddle: false,\n",
    "          climbing: false,\n",
    "          running: false,\n",
    "          football: false,\n",
    "          trecking: false,\n",
    "          museums: false,\n",
    "          bookstores: false,\n",
    "          theaters: false,\n",
    "          movies: false,\n",
    "          guidedVisits: false,\n",
    "          concerts: false,\n",
    "          parks: false,\n",
    "          ruralTourism: false,\n",
    "        }"
   ]
  },
  {
   "cell_type": "code",
   "execution_count": 58,
   "id": "c2158e58-a9a6-4d07-bef7-b941e48ea92a",
   "metadata": {},
   "outputs": [
    {
     "name": "stdout",
     "output_type": "stream",
     "text": [
      "{'cluster': 6, 'user_id': '004'}\n"
     ]
    }
   ],
   "source": [
    "res = requests.get(path, json=peticion)\n",
    "\n",
    "if res.ok:\n",
    "    print(res.json())\n",
    "else:\n",
    "    print(res.ok)"
   ]
  },
  {
   "cell_type": "code",
   "execution_count": 59,
   "id": "7eebc1d9-b1de-451e-b19b-b4bc6d027a75",
   "metadata": {},
   "outputs": [
    {
     "name": "stdout",
     "output_type": "stream",
     "text": [
      "<Response [200]>\n"
     ]
    }
   ],
   "source": [
    "print(res)"
   ]
  },
  {
   "cell_type": "code",
   "execution_count": 39,
   "id": "d6d157e9-c342-471c-8fd9-17d2727199df",
   "metadata": {},
   "outputs": [
    {
     "name": "stdout",
     "output_type": "stream",
     "text": [
      "False\n"
     ]
    }
   ],
   "source": [
    "res = requests.post(path, json=peticion)\n",
    "\n",
    "if res.ok:\n",
    "    print(res.json())\n",
    "else:\n",
    "    print(res.ok)"
   ]
  },
  {
   "cell_type": "code",
   "execution_count": 40,
   "id": "3a966527-71e3-45f6-9ad7-038c31c19035",
   "metadata": {},
   "outputs": [
    {
     "name": "stdout",
     "output_type": "stream",
     "text": [
      "<Response [405]>\n"
     ]
    }
   ],
   "source": [
    "print(res)"
   ]
  },
  {
   "cell_type": "code",
   "execution_count": null,
   "id": "685d7bca-ca81-46e6-b776-9ffca098c938",
   "metadata": {},
   "outputs": [],
   "source": []
  },
  {
   "cell_type": "code",
   "execution_count": null,
   "id": "f120d5e9-b131-499d-bc35-38edff54c5ae",
   "metadata": {},
   "outputs": [],
   "source": []
  },
  {
   "cell_type": "code",
   "execution_count": null,
   "id": "3510be1f-1afc-412d-b434-455efeeed460",
   "metadata": {},
   "outputs": [],
   "source": []
  },
  {
   "cell_type": "markdown",
   "id": "467e6a6a-9a1a-4807-9c43-35d377cbb1d6",
   "metadata": {},
   "source": [
    "## Pruebas app.py"
   ]
  },
  {
   "cell_type": "code",
   "execution_count": 1,
   "id": "8536c14c-19e6-45f2-91bf-64671da1f3ef",
   "metadata": {},
   "outputs": [],
   "source": [
    "import pandas as pd\n",
    "from distutils.util import strtobool\n",
    "from joblib import load"
   ]
  },
  {
   "cell_type": "code",
   "execution_count": 5,
   "id": "47e20e32-0bca-4ae7-a332-f57c0bf06248",
   "metadata": {},
   "outputs": [
    {
     "name": "stdout",
     "output_type": "stream",
     "text": [
      "004\n"
     ]
    },
    {
     "data": {
      "text/html": [
       "<div>\n",
       "<style scoped>\n",
       "    .dataframe tbody tr th:only-of-type {\n",
       "        vertical-align: middle;\n",
       "    }\n",
       "\n",
       "    .dataframe tbody tr th {\n",
       "        vertical-align: top;\n",
       "    }\n",
       "\n",
       "    .dataframe thead th {\n",
       "        text-align: right;\n",
       "    }\n",
       "</style>\n",
       "<table border=\"1\" class=\"dataframe\">\n",
       "  <thead>\n",
       "    <tr style=\"text-align: right;\">\n",
       "      <th></th>\n",
       "      <th>Climbing</th>\n",
       "      <th>Fitness</th>\n",
       "      <th>Football</th>\n",
       "      <th>Paddle</th>\n",
       "      <th>Running</th>\n",
       "      <th>Surf</th>\n",
       "      <th>Trecking</th>\n",
       "      <th>Voley</th>\n",
       "      <th>Bookstores</th>\n",
       "      <th>Concerts</th>\n",
       "      <th>...</th>\n",
       "      <th>Burgers</th>\n",
       "      <th>Chinese</th>\n",
       "      <th>Indian</th>\n",
       "      <th>Italian</th>\n",
       "      <th>Mediterranean</th>\n",
       "      <th>Sushi</th>\n",
       "      <th>Coffee</th>\n",
       "      <th>Drinks at night</th>\n",
       "      <th>Parties</th>\n",
       "      <th>Sunsets</th>\n",
       "    </tr>\n",
       "  </thead>\n",
       "  <tbody>\n",
       "    <tr>\n",
       "      <th>0</th>\n",
       "      <td>1</td>\n",
       "      <td>1</td>\n",
       "      <td>0</td>\n",
       "      <td>0</td>\n",
       "      <td>0</td>\n",
       "      <td>0</td>\n",
       "      <td>1</td>\n",
       "      <td>0</td>\n",
       "      <td>0</td>\n",
       "      <td>0</td>\n",
       "      <td>...</td>\n",
       "      <td>1</td>\n",
       "      <td>1</td>\n",
       "      <td>1</td>\n",
       "      <td>1</td>\n",
       "      <td>1</td>\n",
       "      <td>0</td>\n",
       "      <td>0</td>\n",
       "      <td>1</td>\n",
       "      <td>1</td>\n",
       "      <td>1</td>\n",
       "    </tr>\n",
       "  </tbody>\n",
       "</table>\n",
       "<p>1 rows × 26 columns</p>\n",
       "</div>"
      ],
      "text/plain": [
       "   Climbing  Fitness  Football  Paddle  Running  Surf  Trecking  Voley  \\\n",
       "0         1        1         0       0        0     0         1      0   \n",
       "\n",
       "   Bookstores  Concerts  ...  Burgers  Chinese  Indian  Italian  \\\n",
       "0           0         0  ...        1        1       1        1   \n",
       "\n",
       "   Mediterranean  Sushi  Coffee  Drinks at night  Parties  Sunsets  \n",
       "0              1      0       0                1        1        1  \n",
       "\n",
       "[1 rows x 26 columns]"
      ]
     },
     "execution_count": 5,
     "metadata": {},
     "output_type": "execute_result"
    }
   ],
   "source": [
    "new_user = pd.DataFrame.from_dict(peticion, orient='index').T\n",
    "user_id = new_user['user_id'].values[0]\n",
    "new_user.drop('user_id', axis='columns', inplace=True)\n",
    "new_user = new_user.applymap(strtobool)\n",
    "\n",
    "print(user_id)\n",
    "new_user"
   ]
  },
  {
   "cell_type": "code",
   "execution_count": 6,
   "id": "1834bccc-fd2b-4085-a4bd-82ec3111d961",
   "metadata": {},
   "outputs": [
    {
     "data": {
      "text/plain": [
       "4"
      ]
     },
     "execution_count": 6,
     "metadata": {},
     "output_type": "execute_result"
    }
   ],
   "source": [
    "model = load('model/model.pkl')\n",
    "\n",
    "cluster = model.predict(new_user)\n",
    "cluster[0]"
   ]
  },
  {
   "cell_type": "code",
   "execution_count": null,
   "id": "89c21831-ff8b-46c9-a8d7-0e545fa43020",
   "metadata": {},
   "outputs": [],
   "source": []
  }
 ],
 "metadata": {
  "kernelspec": {
   "display_name": "Python 3",
   "language": "python",
   "name": "python3"
  },
  "language_info": {
   "codemirror_mode": {
    "name": "ipython",
    "version": 3
   },
   "file_extension": ".py",
   "mimetype": "text/x-python",
   "name": "python",
   "nbconvert_exporter": "python",
   "pygments_lexer": "ipython3",
   "version": "3.8.8"
  }
 },
 "nbformat": 4,
 "nbformat_minor": 5
}
