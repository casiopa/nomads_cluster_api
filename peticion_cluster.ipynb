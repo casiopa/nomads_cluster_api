{
 "cells": [
  {
   "cell_type": "code",
   "execution_count": 5,
   "id": "6a190d2e-8965-4204-87bc-93462bb27116",
   "metadata": {},
   "outputs": [],
   "source": [
    "import requests"
   ]
  },
  {
   "cell_type": "code",
   "execution_count": 25,
   "id": "c8f71023-0823-436a-a554-3a8dfc536d0b",
   "metadata": {},
   "outputs": [],
   "source": [
    "peticion = {'user_id': '004',\n",
    "            'surf': 'True',\n",
    "           }\n",
    "path = 'http://127.0.0.1:5000/api/nomad_cluster'"
   ]
  },
  {
   "cell_type": "code",
   "execution_count": 26,
   "id": "c2158e58-a9a6-4d07-bef7-b941e48ea92a",
   "metadata": {},
   "outputs": [
    {
     "name": "stdout",
     "output_type": "stream",
     "text": [
      "{'cluster': 5, 'surf': 1, 'user_id': 4}\n"
     ]
    }
   ],
   "source": [
    "res = requests.get(path, json=peticion)\n",
    "\n",
    "if res.ok:\n",
    "    print(res.json())\n",
    "else:\n",
    "    print(res.ok)"
   ]
  },
  {
   "cell_type": "code",
   "execution_count": null,
   "id": "7eebc1d9-b1de-451e-b19b-b4bc6d027a75",
   "metadata": {},
   "outputs": [],
   "source": []
  }
 ],
 "metadata": {
  "kernelspec": {
   "display_name": "Python 3",
   "language": "python",
   "name": "python3"
  },
  "language_info": {
   "codemirror_mode": {
    "name": "ipython",
    "version": 3
   },
   "file_extension": ".py",
   "mimetype": "text/x-python",
   "name": "python",
   "nbconvert_exporter": "python",
   "pygments_lexer": "ipython3",
   "version": "3.8.8"
  }
 },
 "nbformat": 4,
 "nbformat_minor": 5
}
